{
 "cells": [
  {
   "cell_type": "code",
   "execution_count": null,
   "id": "6284d1af-fd9d-4ce8-ab93-dc2bd61418eb",
   "metadata": {},
   "outputs": [],
   "source": [
    "Q1. What is the Probability density function?"
   ]
  },
  {
   "cell_type": "markdown",
   "id": "525a4b5c-d2ba-4e94-b09d-8d62572bbf31",
   "metadata": {},
   "source": [
    "ANS-The Probability Density Function (PDF) is a fundamental concept in probability theory and statistics. It is used to describe the probability distribution of a continuous random variable. In simple terms, the PDF provides the relative likelihood of a continuous random variable taking on a specific value or falling within a certain range of values.\n",
    "\n",
    "For a continuous random variable X, the PDF is denoted as f(x) and is defined such that the probability that X lies within any given interval [a, b] can be calculated by integrating the PDF over that interval:\n",
    "\n",
    "P(a ≤ X ≤ b) = ∫[a to b] f(x) dx\n",
    "\n",
    "Properties of a PDF:\n",
    "\n",
    "f(x) is non-negative: f(x) ≥ 0 for all x in the domain of X.\n",
    "\n",
    "Total area under the curve: The integral of the PDF over the entire range of X is equal to 1:\n",
    "\n",
    "∫[-∞ to +∞] f(x) dx = 1\n",
    "\n",
    "Probability of a specific value: The probability that X takes on a specific value x (P(X = x)) is technically zero since the area under a single point is zero in a continuous distribution. However, the probability of X falling within a small range around x is meaningful, and this can be calculated as the integral of the PDF over that range.\n",
    "\n",
    "It's important to note that for discrete random variables, we use Probability Mass Function (PMF) instead of the PDF to describe the probability distribution.\n",
    "\n",
    "The PDF plays a crucial role in various statistical analyses, such as calculating expected values, variance, and other statistical measures, as well as in constructing probability density plots and making probability-based predictions."
   ]
  },
  {
   "cell_type": "code",
   "execution_count": null,
   "id": "b99e7abd-2982-4d1a-8c57-d94c3d1a191a",
   "metadata": {},
   "outputs": [],
   "source": [
    "Q2. What are the types of Probability distribution?"
   ]
  },
  {
   "cell_type": "markdown",
   "id": "1e16573c-a9fe-4748-9feb-3fcc722fb30a",
   "metadata": {},
   "source": [
    "ANS-There are several types of probability distributions, each serving different purposes and applicable to specific types of random variables. The two main categories of probability distributions are:\n",
    "\n",
    "Discrete Probability Distributions:\n",
    "Discrete probability distributions are used for describing the probability distribution of discrete random variables. Discrete random variables take on a countable set of distinct values, typically integers. The probability distribution is defined using the Probability Mass Function (PMF).\n",
    "\n",
    "Some common examples of discrete probability distributions include:\n",
    "\n",
    "Bernoulli Distribution: Describes the probability of success (1) or failure (0) in a single trial.\n",
    "Binomial Distribution: Models the number of successes in a fixed number of independent Bernoulli trials.\n",
    "Poisson Distribution: Used to model the number of events occurring in a fixed interval of time or space.\n",
    "Geometric Distribution: Represents the number of trials needed to achieve the first success in a sequence of independent Bernoulli trials.\n",
    "Hypergeometric Distribution: Used to model the number of successes in a fixed number of draws from a finite population without replacement.\n",
    "Continuous Probability Distributions:\n",
    "Continuous probability distributions are used for describing the probability distribution of continuous random variables. Continuous random variables can take on any value within a specified range. The probability distribution is defined using the Probability Density Function (PDF).\n",
    "\n",
    "Some common examples of continuous probability distributions include:\n",
    "\n",
    "Uniform Distribution: Provides constant probability over a defined range.\n",
    "Normal (Gaussian) Distribution: A symmetric bell-shaped curve widely used in statistics due to the central limit theorem.\n",
    "Exponential Distribution: Models the time between events in a Poisson process.\n",
    "Beta Distribution: Often used as a prior distribution for probabilities in Bayesian statistics.\n",
    "Gamma Distribution: Generalizes the exponential distribution and has applications in various fields.\n",
    "These are just a few examples of probability distributions, and there are many other distributions with unique properties and applications in statistics and probability theory. Choosing the appropriate distribution depends on the characteristics of the data and the specific problem being analyzed-"
   ]
  },
  {
   "cell_type": "code",
   "execution_count": null,
   "id": "dbdf7773-11be-48ee-b3e6-5a7329c02aa6",
   "metadata": {},
   "outputs": [],
   "source": [
    "Q3. Write a Python function to calculate the probability density function of a normal distribution with\n",
    "given mean and standard deviation at a given point."
   ]
  },
  {
   "cell_type": "code",
   "execution_count": null,
   "id": "6071e3b8-0aab-4fd9-94b3-137bf8c37f7e",
   "metadata": {},
   "outputs": [],
   "source": [
    "ANS-\n",
    "import math\n",
    "\n",
    "def normal_pdf(x, mean, std_dev):\n",
    "    \"\"\"\n",
    "    Calculate the Probability Density Function (PDF) of a normal distribution\n",
    "    at a given point x.\n",
    "\n",
    "    Parameters:\n",
    "        x (float): The value at which to calculate the PDF.\n",
    "        mean (float): Mean of the normal distribution.\n",
    "        std_dev (float): Standard deviation of the normal distribution.\n",
    "\n",
    "    Returns:\n",
    "        float: The PDF value at the given point x.\n",
    "    \"\"\"\n",
    "    coefficient = 1 / (std_dev * math.sqrt(2 * math.pi))\n",
    "    exponent = -((x - mean) ** 2) / (2 * std_dev ** 2)\n",
    "    pdf_value = coefficient * math.exp(exponent)\n",
    "    return pdf_value\n",
    "\n",
    "# Example usage:\n",
    "mean = 0.0\n",
    "std_dev = 1.0\n",
    "x_value = 1.5\n",
    "pdf_result = normal_pdf(x_value, mean, std_dev)\n",
    "print(f\"PDF at x = {x_value}: {pdf_result}\")\n",
    "\n"
   ]
  },
  {
   "cell_type": "code",
   "execution_count": null,
   "id": "54c3947a-1df7-45bb-85a1-aade76d66f37",
   "metadata": {},
   "outputs": [],
   "source": [
    "Q4. What are the properties of Binomial distribution? Give two examples of events where binomial\n",
    "distribution can be applied."
   ]
  },
  {
   "cell_type": "markdown",
   "id": "68a579a1-6dd9-4d72-8b90-cdfaeaf3ceef",
   "metadata": {},
   "source": [
    "ANS-The Binomial distribution is a probability distribution that describes the number of successes in a fixed number of independent Bernoulli trials. It has the following properties:\n",
    "\n",
    "Discrete: The Binomial distribution is discrete, meaning it deals with a countable number of outcomes (non-negative integers).\n",
    "\n",
    "Fixed number of trials: The number of trials, denoted by 'n', is fixed in advance. Each trial is independent of the others.\n",
    "\n",
    "Two possible outcomes: Each trial can have only two outcomes, commonly denoted as \"success\" and \"failure.\"\n",
    "\n",
    "Constant probability: The probability of success in each trial remains constant and is denoted by 'p.'\n",
    "\n",
    "Independence: The outcomes of each trial are independent of each other.\n",
    "\n",
    "Probability Mass Function (PMF): The probability of getting exactly 'k' successes in 'n' trials can be calculated using the PMF of the Binomial distribution:\n",
    "\n",
    "PMF(k) = (n choose k) * p^k * (1 - p)^(n - k)\n",
    "\n",
    "where (n choose k) is the binomial coefficient, given by (n choose k) = n! / (k! * (n - k)!).\n",
    "\n",
    "Two examples of events where the Binomial distribution can be applied are:\n",
    "\n",
    "Example 1: Coin Flips\n",
    "Consider the event of flipping a fair coin (where the probability of getting a head is 0.5) 10 times. We can use the Binomial distribution to find the probability of getting a specific number of heads (e.g., 3 heads) out of the 10 coin flips.\n",
    "\n",
    "Example 2: Quality Control\n",
    "Suppose a manufacturing company produces light bulbs, and each bulb has a 95% chance of passing the quality control test. If we randomly select 20 light bulbs from the production line, we can use the Binomial distribution to calculate the probability of a certain number of bulbs passing the quality control test (e.g., 18 out of 20).\n",
    "\n",
    "In both examples, we have a fixed number of independent trials (coin flips or testing light bulbs), each with two possible outcomes (success or failure), and a constant probability of success (0.5 for the coin flips and 0.95 for passing the quality control test). These characteristics make the Binomial distribution a suitable model for these scenarios.\n",
    "\n",
    "\n",
    "\n",
    "\n"
   ]
  },
  {
   "cell_type": "code",
   "execution_count": null,
   "id": "52aa0bea-11c6-4cbd-85a9-7da220679907",
   "metadata": {},
   "outputs": [],
   "source": [
    "Q5. Generate a random sample of size 1000 from a binomial distribution with probability of success 0.4\n",
    "and plot a histogram of the results using matplotlib."
   ]
  },
  {
   "cell_type": "markdown",
   "id": "871c9e06-59ef-4482-9291-5db10c093e10",
   "metadata": {},
   "source": [
    "ANS-In this code, we use np.random.binomial from numpy to generate the random sample. The function takes three arguments: n, which is the number of trials (1000 in this case), p, which is the probability of success (0.4), and size, which is the number of samples to generate (1000 in this case).\n",
    "\n",
    "The histogram is then created using matplotlib.pyplot.hist. We set the number of bins to 20 and normalize the histogram by setting density=True so that the area under the histogram sums up to 1.\n",
    "\n",
    "When you run this code, it will generate a random sample of size 1000 from the specified binomial distribution and display a histogram showing the distribution of the number of successes. The histogram will show the probability density of different numbers of successes in the binomial trials.\n",
    "\n",
    "\n",
    "\n",
    "\n",
    "\n"
   ]
  },
  {
   "cell_type": "code",
   "execution_count": 1,
   "id": "4e786d80-23b3-4153-a35c-9389af9ff534",
   "metadata": {},
   "outputs": [
    {
     "data": {
      "image/png": "[encoded data removed]",
      "text/plain": [
       "<Figure size 800x600 with 1 Axes>"
      ]
     },
     "metadata": {},
     "output_type": "display_data"
    }
   ],
   "source": [
    "import numpy as np\n",
    "import matplotlib.pyplot as plt\n",
    "\n",
    "# Parameters for the binomial distribution\n",
    "n_trials = 1000  # Number of trials\n",
    "p_success = 0.4  # Probability of success\n",
    "\n",
    "# Generate the random sample from the binomial distribution\n",
    "random_sample = np.random.binomial(n=n_trials, p=p_success, size=1000)\n",
    "\n",
    "# Plot the histogram of the random sample\n",
    "plt.figure(figsize=(8, 6))\n",
    "plt.hist(random_sample, bins=20, density=True, color='skyblue', edgecolor='black', alpha=0.7)\n",
    "\n",
    "# Add labels and title\n",
    "plt.xlabel('Number of Successes', fontsize=14)\n",
    "plt.ylabel('Probability Density', fontsize=14)\n",
    "plt.title('Histogram of Random Sample from Binomial Distribution', fontsize=16)\n",
    "\n",
    "plt.show()\n"
   ]
  },
  {
   "cell_type": "code",
   "execution_count": null,
   "id": "80a874a5-057a-454c-989c-e44cd8e97763",
   "metadata": {},
   "outputs": [],
   "source": [
    "Q6. Write a Python function to calculate the cumulative distribution function of a Poisson distribution\n",
    "with given mean at a given point."
   ]
  },
  {
   "cell_type": "code",
   "execution_count": null,
   "id": "2c732951-e8d0-41cf-962d-1de17cb45da0",
   "metadata": {},
   "outputs": [],
   "source": [
    "ANS- import math\n",
    "\n",
    "def poisson_cdf(k, mean):\n",
    "    \"\"\"\n",
    "    Calculate the Cumulative Distribution Function (CDF) of a Poisson distribution\n",
    "    at a given point 'k'.\n",
    "\n",
    "    Parameters:\n",
    "        k (int): The value at which to calculate the CDF.\n",
    "        mean (float): Mean of the Poisson distribution.\n",
    "\n",
    "    Returns:\n",
    "        float: The CDF value at the given point 'k'.\n",
    "    \"\"\"\n",
    "    if k < 0:\n",
    "        return 0.0\n",
    "\n",
    "    cdf_value = 0.0\n",
    "    for i in range(k + 1):\n",
    "        cdf_value += math.exp(-mean) * (mean ** i) / math.factorial(i)\n",
    "\n",
    "    return cdf_value\n",
    "\n",
    "# Example usage:\n",
    "mean = 3.5\n",
    "k_value = 2\n",
    "cdf_result = poisson_cdf(k_value, mean)\n",
    "print(f\"CDF at k = {k_value}: {cdf_result}\")\n"
   ]
  },
  {
   "cell_type": "code",
   "execution_count": null,
   "id": "133d3a06-21de-4851-9099-40607a5e9b71",
   "metadata": {},
   "outputs": [],
   "source": [
    "Q7. How Binomial distribution different from Poisson distribution?"
   ]
  },
  {
   "cell_type": "markdown",
   "id": "36f1847a-f30a-49db-8f11-276ff4123bcc",
   "metadata": {},
   "source": [
    "ANS-The Binomial distribution and the Poisson distribution are two distinct probability distributions that are used to model different types of random events. While they are both discrete probability distributions, they have different characteristics and applications. Here are the main differences between the two:\n",
    "\n",
    "Nature of Events:\n",
    "\n",
    "Binomial Distribution: The binomial distribution is used to model the number of successes in a fixed number of independent Bernoulli trials. Each trial has two possible outcomes: success or failure. The probability of success remains constant across all trials.\n",
    "Poisson Distribution: The Poisson distribution is used to model the number of events that occur in a fixed interval of time or space, assuming events occur at a constant rate and independently of each other. It is often applied to situations where the probability of an event occurring in a small interval is proportional to the size of the interval.\n",
    "Number of Trials (or Events):\n",
    "    \n",
    "    \n",
    "\n",
    "Binomial Distribution: Requires a fixed number of trials 'n' to be specified in advance.\n",
    "Poisson Distribution: Does not require a fixed number of trials; it is applicable to situations with a varying or unknown number of events.\n",
    "Probability of Success (or Event Rate):\n",
    "    \n",
    "\n",
    "Binomial Distribution: Assumes a constant probability of success 'p' for each trial.\n",
    "Poisson Distribution: Uses a single parameter 'λ' (lambda) representing the average rate of events occurring in the given interval.\n",
    "Dependency:\n",
    "    \n",
    "    \n",
    "\n",
    "Binomial Distribution: Each trial is assumed to be independent of others. The outcome of one trial does not influence the outcome of other trials.\n",
    "Poisson Distribution: The events are assumed to occur independently within the fixed interval, but the number of events in one interval can affect the number in another (e.g., higher traffic accidents on a road may lead to higher accidents in nearby intervals).\n",
    "Use Cases:\n",
    "    \n",
    "    \n",
    "\n",
    "Binomial Distribution: Applicable to scenarios involving a fixed number of identical trials, such as coin flips, pass/fail experiments, or the number of successes in a sample.\n",
    "Poisson Distribution: Suitable for modeling rare events occurring at a constant rate, such as the number of customer arrivals at a service center, defects in a product, or the number of calls to a customer support center in a given hour.\n",
    "\n",
    "\n",
    "In summary, the key distinction between the Binomial and Poisson distributions lies in the nature of the events they model, the number of trials or events involved, and the assumption about the rate or probability of success. Choosing the appropriate distribution depends on the characteristics of the data and the nature of the random process being analyzed.\n",
    "\n",
    "\n",
    "\n",
    "\n"
   ]
  },
  {
   "cell_type": "code",
   "execution_count": null,
   "id": "ac7711eb-7f0d-4541-8e92-e174ad92a8f1",
   "metadata": {},
   "outputs": [],
   "source": [
    "Q8. Generate a random sample of size 1000 from a Poisson distribution with mean 5 and calculate the\n",
    "sample mean and variance."
   ]
  },
  {
   "cell_type": "markdown",
   "id": "98442938-2628-4fa5-9d78-80de4bc71f15",
   "metadata": {},
   "source": [
    "ANS-In this code, we use np.random.poisson from numpy to generate the random sample from the Poisson distribution. The function takes two arguments: lam, which is the mean of the Poisson distribution, and size, which is the number of samples to generate (1000 in this case).\n",
    "\n",
    "After generating the random sample, we calculate the sample mean using np.mean() and the sample variance using np.var().\n",
    "\n",
    "When you run this code, it will generate a random sample of size 1000 from the Poisson distribution with a mean of 5. It will then calculate the sample mean and variance of the generated sample and print the results. Keep in mind that the sample mean and variance may vary slightly each time you run the code due to the random nature of the sample generation."
   ]
  },
  {
   "cell_type": "code",
   "execution_count": null,
   "id": "e7fec761-dc71-41ed-913e-49c2dccaa12a",
   "metadata": {},
   "outputs": [],
   "source": [
    "import numpy as np\n",
    "\n",
    "# Parameters for the Poisson distribution\n",
    "mean = 5\n",
    "\n",
    "# Generate the random sample from the Poisson distribution\n",
    "random_sample = np.random.poisson(mean, size=1000)\n",
    "\n",
    "# Calculate the sample mean and variance\n",
    "sample_mean = np.mean(random_sample)\n",
    "sample_variance = np.var(random_sample)\n",
    "\n",
    "print(\"Sample Mean:\", sample_mean)\n",
    "print(\"Sample Variance:\", sample_variance)\n"
   ]
  },
  {
   "cell_type": "code",
   "execution_count": null,
   "id": "0d073ce9-e39c-4b9f-b5d5-4409dbc56777",
   "metadata": {},
   "outputs": [],
   "source": [
    "Q9. How mean and variance are related in Binomial distribution and Poisson distribution?"
   ]
  },
  {
   "cell_type": "markdown",
   "id": "430de10b-ea67-4ede-af28-5bb177a5e538",
   "metadata": {},
   "source": [
    "ANS-In both the Binomial and Poisson distributions, the mean and variance are related, but the specific relationships differ between the two distributions.\n",
    "\n",
    "Binomial Distribution:\n",
    "In a Binomial distribution with parameters 'n' (number of trials) and 'p' (probability of success in each trial), the mean (μ) and variance (σ^2) are related as follows:\n",
    "\n",
    "Mean (μ) = n * p\n",
    "Variance (σ^2) = n * p * (1 - p)\n",
    "\n",
    "Here, the mean is equal to the number of trials 'n' multiplied by the probability of success 'p'. The variance is equal to 'n' times 'p' times '1 - p'. The variance reaches its maximum when 'p' is 0.5, meaning that the variance is highest when the probability of success and failure are equally likely.\n",
    "\n",
    "Poisson Distribution:\n",
    "In a Poisson distribution with parameter 'λ' (lambda) representing the average rate of events occurring in a fixed interval, the mean (μ) and variance (σ^2) are related as follows:\n",
    "\n",
    "Mean (μ) = λ\n",
    "Variance (σ^2) = λ\n",
    "\n",
    "In the Poisson distribution, both the mean and variance are equal to 'λ'. The variance is constant and independent of the mean. This property is unique to the Poisson distribution and sets it apart from the Binomial distribution.\n",
    "\n",
    "In summary, for the Binomial distribution, the variance depends on both the number of trials 'n' and the probability of success 'p'. As 'p' approaches 0 or 1, the variance approaches 0, and as 'p' approaches 0.5, the variance reaches its maximum. On the other hand, in the Poisson distribution, the variance is always equal to the mean 'λ', and it remains constant regardless of the value of 'λ'.\n",
    "\n",
    "\n",
    "\n",
    "\n"
   ]
  },
  {
   "cell_type": "code",
   "execution_count": null,
   "id": "9278b1bd-c675-4621-ac9b-b7e05c0f0821",
   "metadata": {},
   "outputs": [],
   "source": []
  },
  {
   "cell_type": "code",
   "execution_count": null,
   "id": "bce01722-f270-444d-9316-2beebd93c483",
   "metadata": {},
   "outputs": [],
   "source": []
  }
 ],
 "metadata": {
  "kernelspec": {
   "display_name": "Python 3 (ipykernel)",
   "language": "python",
   "name": "python3"
  },
  "language_info": {
   "codemirror_mode": {
    "name": "ipython",
    "version": 3
   },
   "file_extension": ".py",
   "mimetype": "text/x-python",
   "name": "python",
   "nbconvert_exporter": "python",
   "pygments_lexer": "ipython3",
   "version": "3.10.8"
  }
 },
 "nbformat": 4,
 "nbformat_minor": 5
}
